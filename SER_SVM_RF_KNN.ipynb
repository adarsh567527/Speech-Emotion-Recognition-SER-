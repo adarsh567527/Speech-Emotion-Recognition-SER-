{
  "cells": [
    {
      "cell_type": "markdown",
      "metadata": {
        "id": "view-in-github",
        "colab_type": "text"
      },
      "source": [
        "<a href=\"https://colab.research.google.com/github/adarsh567527/Speech-Emotion-Recognition-SER-/blob/main/SER_SVM_RF_KNN.ipynb\" target=\"_parent\"><img src=\"https://colab.research.google.com/assets/colab-badge.svg\" alt=\"Open In Colab\"/></a>"
      ]
    },
    {
      "cell_type": "code",
      "execution_count": 1,
      "metadata": {
        "colab": {
          "base_uri": "https://localhost:8080/",
          "height": 328
        },
        "id": "El4b3j8SKISQ",
        "outputId": "d9f0f85b-f066-4273-c291-9774825848e6"
      },
      "outputs": [
        {
          "output_type": "error",
          "ename": "MessageError",
          "evalue": "ignored",
          "traceback": [
            "\u001b[0;31m---------------------------------------------------------------------------\u001b[0m",
            "\u001b[0;31mMessageError\u001b[0m                              Traceback (most recent call last)",
            "\u001b[0;32m<ipython-input-1-91874b305a32>\u001b[0m in \u001b[0;36m<module>\u001b[0;34m()\u001b[0m\n\u001b[1;32m      1\u001b[0m \u001b[0;32mfrom\u001b[0m \u001b[0mgoogle\u001b[0m\u001b[0;34m.\u001b[0m\u001b[0mcolab\u001b[0m \u001b[0;32mimport\u001b[0m \u001b[0mdrive\u001b[0m\u001b[0;34m\u001b[0m\u001b[0;34m\u001b[0m\u001b[0m\n\u001b[0;32m----> 2\u001b[0;31m \u001b[0mdrive\u001b[0m\u001b[0;34m.\u001b[0m\u001b[0mmount\u001b[0m\u001b[0;34m(\u001b[0m\u001b[0;34m'/content/drive/'\u001b[0m\u001b[0;34m)\u001b[0m\u001b[0;34m\u001b[0m\u001b[0;34m\u001b[0m\u001b[0m\n\u001b[0m",
            "\u001b[0;32m/usr/local/lib/python3.7/dist-packages/google/colab/drive.py\u001b[0m in \u001b[0;36mmount\u001b[0;34m(mountpoint, force_remount, timeout_ms)\u001b[0m\n\u001b[1;32m    107\u001b[0m       \u001b[0mforce_remount\u001b[0m\u001b[0;34m=\u001b[0m\u001b[0mforce_remount\u001b[0m\u001b[0;34m,\u001b[0m\u001b[0;34m\u001b[0m\u001b[0;34m\u001b[0m\u001b[0m\n\u001b[1;32m    108\u001b[0m       \u001b[0mtimeout_ms\u001b[0m\u001b[0;34m=\u001b[0m\u001b[0mtimeout_ms\u001b[0m\u001b[0;34m,\u001b[0m\u001b[0;34m\u001b[0m\u001b[0;34m\u001b[0m\u001b[0m\n\u001b[0;32m--> 109\u001b[0;31m       ephemeral=True)\n\u001b[0m\u001b[1;32m    110\u001b[0m \u001b[0;34m\u001b[0m\u001b[0m\n\u001b[1;32m    111\u001b[0m \u001b[0;34m\u001b[0m\u001b[0m\n",
            "\u001b[0;32m/usr/local/lib/python3.7/dist-packages/google/colab/drive.py\u001b[0m in \u001b[0;36m_mount\u001b[0;34m(mountpoint, force_remount, timeout_ms, ephemeral)\u001b[0m\n\u001b[1;32m    126\u001b[0m   \u001b[0;32mif\u001b[0m \u001b[0mephemeral\u001b[0m\u001b[0;34m:\u001b[0m\u001b[0;34m\u001b[0m\u001b[0;34m\u001b[0m\u001b[0m\n\u001b[1;32m    127\u001b[0m     _message.blocking_request(\n\u001b[0;32m--> 128\u001b[0;31m         'request_auth', request={'authType': 'dfs_ephemeral'}, timeout_sec=None)\n\u001b[0m\u001b[1;32m    129\u001b[0m \u001b[0;34m\u001b[0m\u001b[0m\n\u001b[1;32m    130\u001b[0m   \u001b[0mmountpoint\u001b[0m \u001b[0;34m=\u001b[0m \u001b[0m_os\u001b[0m\u001b[0;34m.\u001b[0m\u001b[0mpath\u001b[0m\u001b[0;34m.\u001b[0m\u001b[0mexpanduser\u001b[0m\u001b[0;34m(\u001b[0m\u001b[0mmountpoint\u001b[0m\u001b[0;34m)\u001b[0m\u001b[0;34m\u001b[0m\u001b[0;34m\u001b[0m\u001b[0m\n",
            "\u001b[0;32m/usr/local/lib/python3.7/dist-packages/google/colab/_message.py\u001b[0m in \u001b[0;36mblocking_request\u001b[0;34m(request_type, request, timeout_sec, parent)\u001b[0m\n\u001b[1;32m    173\u001b[0m   request_id = send_request(\n\u001b[1;32m    174\u001b[0m       request_type, request, parent=parent, expect_reply=True)\n\u001b[0;32m--> 175\u001b[0;31m   \u001b[0;32mreturn\u001b[0m \u001b[0mread_reply_from_input\u001b[0m\u001b[0;34m(\u001b[0m\u001b[0mrequest_id\u001b[0m\u001b[0;34m,\u001b[0m \u001b[0mtimeout_sec\u001b[0m\u001b[0;34m)\u001b[0m\u001b[0;34m\u001b[0m\u001b[0;34m\u001b[0m\u001b[0m\n\u001b[0m",
            "\u001b[0;32m/usr/local/lib/python3.7/dist-packages/google/colab/_message.py\u001b[0m in \u001b[0;36mread_reply_from_input\u001b[0;34m(message_id, timeout_sec)\u001b[0m\n\u001b[1;32m    104\u001b[0m         reply.get('colab_msg_id') == message_id):\n\u001b[1;32m    105\u001b[0m       \u001b[0;32mif\u001b[0m \u001b[0;34m'error'\u001b[0m \u001b[0;32min\u001b[0m \u001b[0mreply\u001b[0m\u001b[0;34m:\u001b[0m\u001b[0;34m\u001b[0m\u001b[0;34m\u001b[0m\u001b[0m\n\u001b[0;32m--> 106\u001b[0;31m         \u001b[0;32mraise\u001b[0m \u001b[0mMessageError\u001b[0m\u001b[0;34m(\u001b[0m\u001b[0mreply\u001b[0m\u001b[0;34m[\u001b[0m\u001b[0;34m'error'\u001b[0m\u001b[0;34m]\u001b[0m\u001b[0;34m)\u001b[0m\u001b[0;34m\u001b[0m\u001b[0;34m\u001b[0m\u001b[0m\n\u001b[0m\u001b[1;32m    107\u001b[0m       \u001b[0;32mreturn\u001b[0m \u001b[0mreply\u001b[0m\u001b[0;34m.\u001b[0m\u001b[0mget\u001b[0m\u001b[0;34m(\u001b[0m\u001b[0;34m'data'\u001b[0m\u001b[0;34m,\u001b[0m \u001b[0;32mNone\u001b[0m\u001b[0;34m)\u001b[0m\u001b[0;34m\u001b[0m\u001b[0;34m\u001b[0m\u001b[0m\n\u001b[1;32m    108\u001b[0m \u001b[0;34m\u001b[0m\u001b[0m\n",
            "\u001b[0;31mMessageError\u001b[0m: Error: credential propagation was unsuccessful"
          ]
        }
      ],
      "source": [
        "from google.colab import drive\n",
        "drive.mount('/content/drive/')\n"
      ]
    },
    {
      "cell_type": "code",
      "execution_count": null,
      "metadata": {
        "id": "KkJOTZ3-KPwy"
      },
      "outputs": [],
      "source": [
        "import librosa\n",
        "import soundfile\n",
        "import os, glob, pickle\n",
        "import numpy as np\n",
        "from sklearn.model_selection import train_test_split\n",
        "from sklearn.metrics import classification_report\n",
        "from sklearn.metrics import confusion_matrix\n",
        "\n",
        "from sklearn.metrics import accuracy_score"
      ]
    },
    {
      "cell_type": "code",
      "execution_count": null,
      "metadata": {
        "id": "K5bkBE-dKVCw"
      },
      "outputs": [],
      "source": [
        "def extract_feature(file_name, mfcc, chroma, mel):\n",
        "    X, sample_rate = librosa.load(os.path.join(file_name), res_type='kaiser_fast')\n",
        "    if chroma:\n",
        "        stft=np.abs(librosa.stft(X))\n",
        "    result=np.array([])\n",
        "    if mfcc:\n",
        "        mfccs=np.mean(librosa.feature.mfcc(y=X, sr=sample_rate, n_mfcc=40).T, axis=0)\n",
        "        result=np.hstack((result, mfccs))\n",
        "    if chroma:\n",
        "        chroma=np.mean(librosa.feature.chroma_stft(S=stft, sr=sample_rate).T,axis=0)\n",
        "        result=np.hstack((result, chroma))\n",
        "    if mel:\n",
        "        mel=np.mean(librosa.feature.melspectrogram(X, sr=sample_rate).T,axis=0)\n",
        "        result=np.hstack((result, mel))\n",
        "    return result"
      ]
    },
    {
      "cell_type": "code",
      "execution_count": null,
      "metadata": {
        "id": "uPkp4qvZKeAx"
      },
      "outputs": [],
      "source": [
        "# Emotions in the RAVDESS & TESS dataset\n",
        "emotions={\n",
        "  '01':'neutral',\n",
        "  '02':'calm',\n",
        "  '03':'happy',\n",
        "  '04':'sad',\n",
        "  '05':'angry',\n",
        "  '06':'fearful',\n",
        "  '07':'disgust',\n",
        "  '08':'surprised'\n",
        "}\n",
        "# Emotions to observe\n",
        "observed_emotions=['neutral','calm','happy','sad','angry','fearful', 'disgust','surprised']"
      ]
    },
    {
      "cell_type": "code",
      "execution_count": null,
      "metadata": {
        "id": "r0uqoAg6Knz8"
      },
      "outputs": [],
      "source": [
        "def load_data(test_size=0.2):\n",
        "    x,y=[],[]\n",
        "    for file in glob.glob('/content/drive/My Drive/archive/Actor_*/*.wav'):\n",
        "        file_name=os.path.basename(file)\n",
        "        emotion=emotions[file_name.split(\"-\")[2]]\n",
        "        if emotion not in observed_emotions:\n",
        "            continue\n",
        "        feature=extract_feature(file, mfcc=True, chroma=True, mel=True)\n",
        "        x.append(feature)\n",
        "        y.append(emotion)\n",
        "    return train_test_split(np.array(x), y, test_size=test_size, train_size= 0.75,random_state=9)"
      ]
    },
    {
      "cell_type": "code",
      "execution_count": null,
      "metadata": {
        "colab": {
          "base_uri": "https://localhost:8080/"
        },
        "id": "xJS4i8hZK8us",
        "outputId": "4420f339-6201-4a96-bd5d-02dd90207a1f"
      },
      "outputs": [
        {
          "name": "stdout",
          "output_type": "stream",
          "text": [
            "(2171, 724)\n"
          ]
        }
      ],
      "source": [
        "import time\n",
        "x_train,x_test,y_train,y_test=load_data(test_size=0.25)\n",
        "print((x_train.shape[0], x_test.shape[0]))\n"
      ]
    },
    {
      "cell_type": "code",
      "execution_count": null,
      "metadata": {
        "colab": {
          "base_uri": "https://localhost:8080/"
        },
        "id": "q2_Iq0l0nuPm",
        "outputId": "594cfba5-c460-487a-a776-23106b640aee"
      },
      "outputs": [
        {
          "name": "stdout",
          "output_type": "stream",
          "text": [
            "Features extracted: 180\n"
          ]
        }
      ],
      "source": [
        "print(f'Features extracted: {x_train.shape[1]}')"
      ]
    },
    {
      "cell_type": "code",
      "execution_count": null,
      "metadata": {
        "id": "3PQOqsc5EQXM"
      },
      "outputs": [],
      "source": [
        ""
      ]
    },
    {
      "cell_type": "code",
      "execution_count": null,
      "metadata": {
        "colab": {
          "background_save": true
        },
        "id": "4IAyvr6VmAAW",
        "outputId": "6d38b9cb-13b8-45bd-ba3d-48acc6d42c9b"
      },
      "outputs": [
        {
          "name": "stdout",
          "output_type": "stream",
          "text": [
            "0.8646408839779005\n",
            "              precision    recall  f1-score   support\n",
            "\n",
            "       angry       0.59      0.98      0.74        95\n",
            "        calm       0.96      0.92      0.94        98\n",
            "     disgust       0.92      0.88      0.90        99\n",
            "     fearful       0.95      0.74      0.83       107\n",
            "       happy       0.91      0.87      0.89        91\n",
            "     neutral       1.00      1.00      1.00        40\n",
            "         sad       0.91      0.75      0.82       105\n",
            "   surprised       0.98      0.89      0.93        89\n",
            "\n",
            "    accuracy                           0.86       724\n",
            "   macro avg       0.90      0.88      0.88       724\n",
            "weighted avg       0.89      0.86      0.87       724\n",
            "\n",
            "[[93  0  0  2  0  0  0  0]\n",
            " [ 4 90  2  0  0  0  2  0]\n",
            " [ 8  0 87  0  2  0  2  0]\n",
            " [18  0  2 79  4  0  2  2]\n",
            " [10  0  0  2 79  0  0  0]\n",
            " [ 0  0  0  0  0 40  0  0]\n",
            " [18  4  2  0  2  0 79  0]\n",
            " [ 6  0  2  0  0  0  2 79]]\n"
          ]
        }
      ],
      "source": [
        "from sklearn.svm import SVC \n",
        "NUM_EPOCH=500\n",
        "LOG_FOR_EVERY=10\n",
        "for i in range(NUM_EPOCH):\n",
        "  svm_model_linear = SVC(kernel = 'rbf', C = 10,gamma=0.01).fit(x_train, y_train)\n",
        "\n",
        "svm_predictions = svm_model_linear.predict(x_test) \n",
        "\n",
        "\n",
        "print(accuracy_score(y_true=y_test,y_pred=svm_predictions))\n",
        "print(classification_report(y_test,svm_predictions)) \n",
        "# creating a confusion matrix \n",
        "print(confusion_matrix(y_test, svm_predictions) )"
      ]
    },
    {
      "cell_type": "code",
      "execution_count": null,
      "metadata": {
        "id": "e3UPAOgn8op6"
      },
      "outputs": [],
      "source": [
        ""
      ]
    },
    {
      "cell_type": "code",
      "execution_count": null,
      "metadata": {
        "id": "U81w7nc1wG7L"
      },
      "outputs": [],
      "source": [
        ""
      ]
    },
    {
      "cell_type": "code",
      "execution_count": null,
      "metadata": {
        "colab": {
          "base_uri": "https://localhost:8080/"
        },
        "id": "zMAj27ZXTaiz",
        "outputId": "c21e009e-df6d-4522-cdb4-acc17f7ae2c9"
      },
      "outputs": [
        {
          "name": "stdout",
          "output_type": "stream",
          "text": [
            "0.8895027624309392\n",
            "              precision    recall  f1-score   support\n",
            "\n",
            "       angry       0.95      0.99      0.97        95\n",
            "        calm       0.83      0.91      0.87        98\n",
            "     disgust       0.84      0.85      0.84        99\n",
            "     fearful       0.92      0.92      0.92       107\n",
            "       happy       0.89      0.91      0.90        91\n",
            "     neutral       0.95      0.88      0.91        40\n",
            "         sad       0.87      0.83      0.85       105\n",
            "   surprised       0.90      0.83      0.87        89\n",
            "\n",
            "    accuracy                           0.89       724\n",
            "   macro avg       0.89      0.89      0.89       724\n",
            "weighted avg       0.89      0.89      0.89       724\n",
            "\n",
            "[[94  0  0  0  1  0  0  0]\n",
            " [ 0 89  2  0  0  0  7  0]\n",
            " [ 0  5 84  2  4  2  0  2]\n",
            " [ 1  0  4 98  2  0  2  0]\n",
            " [ 2  0  2  2 83  0  0  2]\n",
            " [ 0  3  0  0  2 35  0  0]\n",
            " [ 2  8  2  2  0  0 87  4]\n",
            " [ 0  2  6  2  1  0  4 74]]\n"
          ]
        }
      ],
      "source": [
        "from sklearn.ensemble import RandomForestClassifier\n",
        "  \n",
        " # create regressor object \n",
        "classifier = RandomForestClassifier(n_estimators = 10, random_state = 0)\n",
        "NUM_EPOCH=500\n",
        "LOG_FOR_EVERY=10\n",
        "for i in range(NUM_EPOCH): \n",
        "  classifier.fit(x_train, y_train) \n",
        "  \n",
        "  \n",
        "\n",
        "c_p = classifier.predict(x_test) \n",
        "\n",
        "\n",
        "print(accuracy_score(y_true=y_test,y_pred=c_p))\n",
        "print(classification_report(y_test,c_p)) \n",
        "# creating a confusion matrix \n",
        "print(confusion_matrix(y_test,c_p) )"
      ]
    },
    {
      "cell_type": "code",
      "execution_count": null,
      "metadata": {
        "colab": {
          "base_uri": "https://localhost:8080/"
        },
        "id": "4vcNp36ang6M",
        "outputId": "50e0ef61-2853-4f43-d528-32736f5c4c7f"
      },
      "outputs": [
        {
          "name": "stdout",
          "output_type": "stream",
          "text": [
            "0.8729281767955801\n",
            "              precision    recall  f1-score   support\n",
            "\n",
            "       angry       0.90      0.96      0.93        95\n",
            "        calm       0.85      0.94      0.89        98\n",
            "     disgust       0.93      0.84      0.88        99\n",
            "     fearful       0.90      0.81      0.85       107\n",
            "       happy       0.87      0.91      0.89        91\n",
            "     neutral       0.72      0.90      0.80        40\n",
            "         sad       0.91      0.81      0.86       105\n",
            "   surprised       0.82      0.84      0.83        89\n",
            "\n",
            "    accuracy                           0.87       724\n",
            "   macro avg       0.86      0.88      0.87       724\n",
            "weighted avg       0.88      0.87      0.87       724\n",
            "\n",
            "[[91  0  0  2  2  0  0  0]\n",
            " [ 0 92  2  0  0  2  2  0]\n",
            " [ 0  4 83  2  2  0  2  6]\n",
            " [ 4  0  4 87  6  0  0  6]\n",
            " [ 2  0  0  4 83  0  0  2]\n",
            " [ 0  2  0  0  0 36  2  0]\n",
            " [ 0  6  0  2  2  8 85  2]\n",
            " [ 4  4  0  0  0  4  2 75]]\n"
          ]
        }
      ],
      "source": [
        "from sklearn.neighbors import KNeighborsClassifier\n",
        "\n",
        "model = KNeighborsClassifier(n_neighbors=5,weights='distance',p=5)\n",
        "\n",
        "NUM_EPOCH=500\n",
        "LOG_FOR_EVERY=10\n",
        "for i in range(NUM_EPOCH):\n",
        "  model.fit(x_train,y_train)\n",
        "\n",
        "\n",
        "#Predict Output\n",
        "predicted= model.predict(x_test) \n",
        "print(accuracy_score(y_true=y_test,y_pred= predicted))\n",
        "print(classification_report(y_test,predicted)) \n",
        "# creating a confusion matrix \n",
        "print(confusion_matrix(y_test,predicted) )"
      ]
    }
  ],
  "metadata": {
    "colab": {
      "collapsed_sections": [],
      "name": "SER_SVM_RF_KNN.ipynb",
      "provenance": [],
      "authorship_tag": "ABX9TyMlBG7YNzxbIODMgYEXkS77",
      "include_colab_link": true
    },
    "kernelspec": {
      "display_name": "Python 3",
      "name": "python3"
    },
    "language_info": {
      "name": "python"
    }
  },
  "nbformat": 4,
  "nbformat_minor": 0
}